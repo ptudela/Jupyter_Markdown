{
 "cells": [
  {
   "cell_type": "markdown",
   "id": "a16af041",
   "metadata": {},
   "source": [
    "<h1 style= \"color: orange\" > El meu primer notebook a Jupiter"
   ]
  },
  {
   "cell_type": "markdown",
   "id": "fffe74c0",
   "metadata": {},
   "source": [
    " __Patricia Tudela__ - *Data Science*\n",
    "\n",
    "**SPRINT 2** - *20 Juliol 2021*"
   ]
  },
  {
   "cell_type": "markdown",
   "id": "964e27c8",
   "metadata": {},
   "source": [
    "# Data Science amb Python"
   ]
  },
  {
   "cell_type": "markdown",
   "id": "a4f2c989",
   "metadata": {},
   "source": [
    "## Alguns càlculs:"
   ]
  },
  {
   "cell_type": "code",
   "execution_count": 24,
   "id": "93c5c136",
   "metadata": {},
   "outputs": [
    {
     "name": "stdout",
     "output_type": "stream",
     "text": [
      "mafalda\n",
      "pardo\n"
     ]
    }
   ],
   "source": [
    "class gatos:\n",
    "    def __init__(self, nombre, color):\n",
    "        self.nombre = nombre\n",
    "        self.color = color\n",
    "mafalda = gatos(\"mafalda\", \"blanco\")\n",
    "michina = gatos(\"michina\", \"pardo\")\n",
    "print(mafalda.nombre)\n",
    "print(michina.color)\n",
    "    "
   ]
  },
  {
   "cell_type": "code",
   "execution_count": 4,
   "id": "a314824f",
   "metadata": {
    "scrolled": true
   },
   "outputs": [
    {
     "name": "stdout",
     "output_type": "stream",
     "text": [
      "Patricia.Tudela@DataScience.com\n",
      "Patricia Tudela - DataScience\n",
      "Toni.Frances@JAVA.com\n",
      "Toni Frances - JAVA\n",
      "Carme.Casas@HTML.com\n",
      "Carme Casas - HTML\n"
     ]
    }
   ],
   "source": [
    "class estudiant:\n",
    "    def __init__(self,nom,cognom,curs):\n",
    "        self.nom = nom\n",
    "        self.cognom = cognom\n",
    "        self.curs = curs\n",
    "        self.email = nom + \".\" + cognom + \"@\" + curs + \".com\"  \n",
    "        self.nomitinerari = nom + \" \"+ cognom+ \" - \"+curs\n",
    "           \n",
    "est_1 = estudiant(\"Patricia\", \"Tudela\", \"DataScience\")\n",
    "est_2 = estudiant(\"Toni\", \"Frances\", \"JAVA\")\n",
    "est_3 = estudiant(\"Carme\", \"Casas\", \"HTML\")\n",
    "\n",
    "print(est_1.email)\n",
    "print(est_1.nomitinerari)\n",
    "print(est_2.email)\n",
    "print(est_2.nomitinerari)\n",
    "print(est_3.email)\n",
    "print(est_3.nomitinerari)\n",
    " \n"
   ]
  },
  {
   "cell_type": "markdown",
   "id": "cbfb0989",
   "metadata": {},
   "source": [
    "## Inserir links i logos"
   ]
  },
  {
   "cell_type": "markdown",
   "id": "bc99c2e8",
   "metadata": {},
   "source": [
    "Alguns recursos de formació en **Python** es poden trobar a: \n",
    "- [ITAcademy](https://www.barcelonactiva.cat/es/itacademy)\n",
    "- [w3schools](https://www.w3schools.com/python/)\n",
    "- [DataCamp](https://www.datacamp.com/courses/intro-to-python-for-data-science)\n",
    "- [SoloLearn](https://www.sololearn.com)"
   ]
  },
  {
   "cell_type": "markdown",
   "id": "2afe09e3",
   "metadata": {},
   "source": [
    "![python_logo](https://www.python.org/static/community_logos/python-logo-master-v3-TM.png)"
   ]
  },
  {
   "cell_type": "markdown",
   "id": "d0b12ccb",
   "metadata": {},
   "source": [
    "## Inserir taules"
   ]
  },
  {
   "cell_type": "markdown",
   "id": "8fdc8c6c",
   "metadata": {},
   "source": [
    "### Calendari d'estudis DataScience amb Python\n",
    "\n",
    "| Sprint | <p style='text-align: center;'> Descripció </p> | Durada(dies) |\n",
    "| ---- | ---- | ---- |\n",
    "| Sprint1 | Instal·lació de l'entorn de treball | 2 |\n",
    "| Sprint2 | Introducció a Python | 5 |\n",
    "| Sprint3 | Estructura de dades i Estructures de Control | 10 |\n",
    "| Sprint4 | Visualització de les dades | 8 |\n",
    "| Sprint5 | Altres mòduls bàsics de Python | 4 |\n",
    "| Sprint6 | Mètodes de Mostreig | 3 |\n",
    "| Sprint7 | Dades, Probabilitats i Estadístiques | 4 |\n",
    "| Sprint8 | Hypothesis Testing | 4 |\n",
    "| Sprint9 | Correlation, Feature Scaling & Feature Engineering | 5 |\n",
    "| Sprint10 | Introducció Machine Learning | 8 |\n",
    "| Sprint11 | Train and Test | 4 |\n",
    "| Sprint12 | Aprenentatge Supervisat - Regressions | 10 |\n",
    "| Sprint13 | Aprenentatge Supervisat - Classificació | 10 |\n",
    "| Sprint14 | Imbalance Classification Dataset | 4 |\n",
    "| Sprint15 | Aprenentatge No Supervisat - Agrupació | 10 |\n",
    "| Sprint16 | Machine learning avançat | 10 |\n",
    "| Sprint17 | Bases de dades relacionals | 10 |\n",
    "| Sprint18 | Bases de dades NoSQL | 7 |\n",
    "| Sprint19 | Caixa d'eines per a la ciència de dades | 10 |"
   ]
  },
  {
   "cell_type": "markdown",
   "id": "4ab23028",
   "metadata": {},
   "source": [
    "## Insert ecuacions"
   ]
  },
  {
   "cell_type": "markdown",
   "id": "3e01aa59",
   "metadata": {},
   "source": [
    "__percentatje__\n",
    "\\begin{equation*}\n",
    "(x/y)*100\n",
    "\\end{equation*}\n",
    "\n",
    "__regresió lineal simple__\n",
    "\\begin{equation*}\n",
    "y=\\beta_{0}+\\beta_{1}*x+\\mu\n",
    "\\end{equation*}\n",
    "\n",
    "__regresió lineal múltiple__\n",
    "\\begin{equation*}\n",
    "y=\\beta_{0}+\\beta_{1}*x_{1}+\\beta_{2}*x_{2}+\\beta_{3}*x_{3}+ ... +\\beta_{k}*x_{k}+\\mu\n",
    "\\end{equation*}"
   ]
  },
  {
   "cell_type": "markdown",
   "id": "3c6fe393",
   "metadata": {},
   "source": [
    "## Exercicis Sprint 2\n",
    "\n",
    "1. *Instal·la el programa Anaconda amb Python 3, i Jupyter Notebook.*\n",
    "\n",
    "2. *Utilitzant Jupyter Notebook executa alguns càlculs senzills, a la vegada que et familiaritzes amb el llenguatge Markdown.*\n",
    "\n",
    "3. *Prova de crear títols, llistes, canviar l’estil de la lletra o afegir imatges dins del Notebook.*\n",
    "\n",
    "4. *Exporta el Notebook com a pdf i com a html.*\n",
    "\n",
    "5. *Instal·la Nbextensions al Notebook de Jupyter.*\n",
    "\n"
   ]
  },
  {
   "cell_type": "markdown",
   "id": "74a9b1ca",
   "metadata": {},
   "source": []
  },
  {
   "cell_type": "markdown",
   "id": "7d47a08f",
   "metadata": {},
   "source": []
  }
 ],
 "metadata": {
  "kernelspec": {
   "display_name": "Python 3",
   "language": "python",
   "name": "python3"
  },
  "language_info": {
   "codemirror_mode": {
    "name": "ipython",
    "version": 3
   },
   "file_extension": ".py",
   "mimetype": "text/x-python",
   "name": "python",
   "nbconvert_exporter": "python",
   "pygments_lexer": "ipython3",
   "version": "3.8.8"
  },
  "latex_envs": {
   "LaTeX_envs_menu_present": true,
   "autoclose": false,
   "autocomplete": true,
   "bibliofile": "biblio.bib",
   "cite_by": "apalike",
   "current_citInitial": 1,
   "eqLabelWithNumbers": true,
   "eqNumInitial": 1,
   "hotkeys": {
    "equation": "Ctrl-E",
    "itemize": "Ctrl-I"
   },
   "labels_anchors": false,
   "latex_user_defs": false,
   "report_style_numbering": false,
   "user_envs_cfg": false
  }
 },
 "nbformat": 4,
 "nbformat_minor": 5
}
